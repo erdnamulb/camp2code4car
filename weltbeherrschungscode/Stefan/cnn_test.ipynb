{
 "cells": [
  {
   "cell_type": "code",
   "execution_count": 1,
   "metadata": {},
   "outputs": [
    {
     "name": "stdout",
     "output_type": "stream",
     "text": [
      "Training data: 270 Validation data: 68\n"
     ]
    }
   ],
   "source": [
    "import os\n",
    "import fnmatch\n",
    "from sklearn.model_selection import train_test_split\n",
    "\n",
    "data_dir = 'Bilder'\n",
    "file_list = os.listdir(data_dir)\n",
    "image_paths = []\n",
    "steering_angles = []\n",
    "pattern = \"*.jpg\"\n",
    "for filename in file_list:\n",
    "    if fnmatch.fnmatch(filename, pattern):\n",
    "        image_paths.append(os.path.join(data_dir,filename))\n",
    "        angle = int(filename[-7:-4])  # AAA part of timestamp_AAA.jpg --> AAA is the angle in range 045 - 135\n",
    "        steering_angles.append(angle)\n",
    "\n",
    "X_train, X_valid, y_train, y_valid = train_test_split( image_paths, steering_angles, test_size=0.2)\n",
    "print(f\"Training data: {len(X_train)} Validation data: {len(X_valid)}\")"
   ]
  },
  {
   "cell_type": "code",
   "execution_count": null,
   "metadata": {},
   "outputs": [],
   "source": []
  },
  {
   "cell_type": "code",
   "execution_count": null,
   "metadata": {},
   "outputs": [],
   "source": [
    "! pip3 install -U numpy"
   ]
  },
  {
   "cell_type": "code",
   "execution_count": null,
   "metadata": {},
   "outputs": [],
   "source": []
  }
 ],
 "metadata": {
  "kernelspec": {
   "display_name": "Python 3",
   "language": "python",
   "name": "python3"
  },
  "language_info": {
   "codemirror_mode": {
    "name": "ipython",
    "version": 3
   },
   "file_extension": ".py",
   "mimetype": "text/x-python",
   "name": "python",
   "nbconvert_exporter": "python",
   "pygments_lexer": "ipython3",
   "version": "3.7.3"
  }
 },
 "nbformat": 4,
 "nbformat_minor": 2
}
